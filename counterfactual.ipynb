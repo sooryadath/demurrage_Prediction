{
 "cells": [
  {
   "cell_type": "code",
   "execution_count": 1,
   "id": "8dd923e3-2d34-4795-8f63-1ae7ddbf003e",
   "metadata": {},
   "outputs": [],
   "source": [
    "# counterfactual.py\n",
    "\n",
    "import pandas as pd\n",
    "import dice_ml\n",
    "from dice_ml import Dice\n",
    "\n",
    "def generate_demurrage_counterfactual(input_dict, df, model):\n",
    "    # Define relevant features\n",
    "    feature_cols = [\n",
    "        'Quantity', 'Free_Time_Hours', 'Discharge_Rate',\n",
    "        'Demurrage_Rate_Per_day'\n",
    "    ]\n",
    "    target_col = 'Demurrage_Incurred'\n",
    "\n",
    "    # Prepare data for DiCE\n",
    "    df_dice = df[feature_cols + [target_col]]\n",
    "    data_dice = dice_ml.Data(\n",
    "        dataframe=df_dice,\n",
    "        continuous_features=feature_cols,\n",
    "        outcome_name=target_col\n",
    "    )\n",
    "    model_dice = dice_ml.Model(model=model, backend=\"sklearn\")\n",
    "    exp = Dice(data_dice, model_dice)\n",
    "\n",
    "    # Convert input_dict to DataFrame\n",
    "    query_instance = pd.DataFrame([input_dict])\n",
    "\n",
    "    # Predict class\n",
    "    pred = model.predict(query_instance)[0]\n",
    "\n",
    "    if pred == 1:\n",
    "        try:\n",
    "            dice_exp = exp.generate_counterfactuals(\n",
    "                query_instance,\n",
    "                total_CFs=1,\n",
    "                desired_class=0,\n",
    "                features_to_vary=['Quantity', 'Discharge_Rate']\n",
    "            )\n",
    "            return dice_exp.visualize_as_dataframe()\n",
    "        except Exception as e:\n",
    "            return pd.DataFrame({'Error': [f\"Failed to generate counterfactual: {e}\"]})\n",
    "    else:\n",
    "        return pd.DataFrame({'Message': ['No demurrage predicted. No counterfactual needed.']})\n"
   ]
  }
 ],
 "metadata": {
  "kernelspec": {
   "display_name": "Python 3 (ipykernel)",
   "language": "python",
   "name": "python3"
  },
  "language_info": {
   "codemirror_mode": {
    "name": "ipython",
    "version": 3
   },
   "file_extension": ".py",
   "mimetype": "text/x-python",
   "name": "python",
   "nbconvert_exporter": "python",
   "pygments_lexer": "ipython3",
   "version": "3.11.7"
  }
 },
 "nbformat": 4,
 "nbformat_minor": 5
}
